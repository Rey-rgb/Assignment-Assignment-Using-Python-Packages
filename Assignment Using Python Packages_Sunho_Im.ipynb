{
 "cells": [
  {
   "cell_type": "code",
   "execution_count": null,
   "id": "2db4a175-8679-48d1-bf48-346eeb127f8b",
   "metadata": {},
   "outputs": [],
   "source": [
    "# An introduction to the library and its sources as comments. (10 Points) \n",
    "\"\"\"\n",
    "\"OpenAI Python\" refers to the Python library that allows developers to access and utilize the powerful \n",
    "AI models developed by OpenAI within their Python applications, essentially providing a way to integrate \n",
    "advanced features like text generation, translation, and question answering into their projects with \n",
    "simple code commands, without needing to build the complex AI models themselves; essentially acting \n",
    "as a bridge to interact with OpenAI's AI capabilities through Python. \n",
    "\"\"\""
   ]
  },
  {
   "cell_type": "code",
   "execution_count": null,
   "id": "3c49621b-0037-42d5-b424-f6da03990ce9",
   "metadata": {},
   "outputs": [],
   "source": [
    "# Advantages, limitations of using the library also provided as comments (10 Points)\n",
    "\"\"\"\n",
    "<Advantages>\n",
    "1) Advanced AI capabilities: \n",
    "OpenAI provides access to powerful AI models like GPT-3, allowing for complex tasks like text generation, translation, and summarization with high accuracy. \n",
    "\n",
    "2) Easy integration with Python:\n",
    "OpenAI offers a well-documented Python library, making it straightforward to integrate their models into existing Python applications. \n",
    "\n",
    "3) Flexibility and customization:\n",
    "Python's vast ecosystem of libraries allows for extensive data preprocessing and fine-tuning of OpenAI models to suit specific needs. \n",
    "\n",
    "4) Rapid development:\n",
    "By utilizing pre-trained OpenAI models, developers can quickly prototype and implement AI features in their applications. \n",
    "\n",
    "5) Advanced analytics:\n",
    "OpenAI can analyze large datasets to provide valuable insights for decision making and application improvement.\n",
    "\n",
    "\n",
    "<Disadvantages>\n",
    "1) Cost considerations:\n",
    "Using OpenAI models often involves subscription fees based on usage, which can become expensive for large-scale applications. \n",
    "\n",
    "2) Lack of transparency:\n",
    "The inner workings of OpenAI models can be opaque, making it difficult to understand how they generate outputs or identify potential biases. \n",
    "\n",
    "3) Ethical concerns:\n",
    "AI models can perpetuate biases present in training data, requiring careful consideration of ethical implications when using OpenAI. \n",
    "\n",
    "4) Potential for misuse:\n",
    "The ability to generate realistic text can be misused for creating misinformation or harmful content. \n",
    "\n",
    "5) Computational demands:\n",
    "Running complex OpenAI models may require significant computing power, especially for large-scale applications. \n",
    "\"\"\""
   ]
  },
  {
   "cell_type": "code",
   "execution_count": null,
   "id": "2ed2fb1f-51d1-4ac4-bc14-c9a4cd48f0ec",
   "metadata": {},
   "outputs": [],
   "source": [
    "#Code to demonstrate calling the library, and use an example dataset to run the library. (30 Points)"
   ]
  },
  {
   "cell_type": "code",
   "execution_count": 1,
   "id": "501320a9-44ed-4251-86a4-5138b100fa83",
   "metadata": {
    "scrolled": true
   },
   "outputs": [
    {
     "name": "stdout",
     "output_type": "stream",
     "text": [
      "Requirement already satisfied: openai in /opt/anaconda3/lib/python3.12/site-packages (1.54.4)\n",
      "Requirement already satisfied: anyio<5,>=3.5.0 in /opt/anaconda3/lib/python3.12/site-packages (from openai) (4.2.0)\n",
      "Requirement already satisfied: distro<2,>=1.7.0 in /opt/anaconda3/lib/python3.12/site-packages (from openai) (1.9.0)\n",
      "Requirement already satisfied: httpx<1,>=0.23.0 in /opt/anaconda3/lib/python3.12/site-packages (from openai) (0.27.0)\n",
      "Requirement already satisfied: jiter<1,>=0.4.0 in /opt/anaconda3/lib/python3.12/site-packages (from openai) (0.7.1)\n",
      "Requirement already satisfied: pydantic<3,>=1.9.0 in /opt/anaconda3/lib/python3.12/site-packages (from openai) (2.5.3)\n",
      "Requirement already satisfied: sniffio in /opt/anaconda3/lib/python3.12/site-packages (from openai) (1.3.0)\n",
      "Requirement already satisfied: tqdm>4 in /opt/anaconda3/lib/python3.12/site-packages (from openai) (4.66.4)\n",
      "Requirement already satisfied: typing-extensions<5,>=4.11 in /opt/anaconda3/lib/python3.12/site-packages (from openai) (4.11.0)\n",
      "Requirement already satisfied: idna>=2.8 in /opt/anaconda3/lib/python3.12/site-packages (from anyio<5,>=3.5.0->openai) (3.7)\n",
      "Requirement already satisfied: certifi in /opt/anaconda3/lib/python3.12/site-packages (from httpx<1,>=0.23.0->openai) (2024.8.30)\n",
      "Requirement already satisfied: httpcore==1.* in /opt/anaconda3/lib/python3.12/site-packages (from httpx<1,>=0.23.0->openai) (1.0.2)\n",
      "Requirement already satisfied: h11<0.15,>=0.13 in /opt/anaconda3/lib/python3.12/site-packages (from httpcore==1.*->httpx<1,>=0.23.0->openai) (0.14.0)\n",
      "Requirement already satisfied: annotated-types>=0.4.0 in /opt/anaconda3/lib/python3.12/site-packages (from pydantic<3,>=1.9.0->openai) (0.6.0)\n",
      "Requirement already satisfied: pydantic-core==2.14.6 in /opt/anaconda3/lib/python3.12/site-packages (from pydantic<3,>=1.9.0->openai) (2.14.6)\n",
      "Requirement already satisfied: openai in /opt/anaconda3/lib/python3.12/site-packages (1.54.4)\n",
      "Requirement already satisfied: anyio<5,>=3.5.0 in /opt/anaconda3/lib/python3.12/site-packages (from openai) (4.2.0)\n",
      "Requirement already satisfied: distro<2,>=1.7.0 in /opt/anaconda3/lib/python3.12/site-packages (from openai) (1.9.0)\n",
      "Requirement already satisfied: httpx<1,>=0.23.0 in /opt/anaconda3/lib/python3.12/site-packages (from openai) (0.27.0)\n",
      "Requirement already satisfied: jiter<1,>=0.4.0 in /opt/anaconda3/lib/python3.12/site-packages (from openai) (0.7.1)\n",
      "Requirement already satisfied: pydantic<3,>=1.9.0 in /opt/anaconda3/lib/python3.12/site-packages (from openai) (2.5.3)\n",
      "Requirement already satisfied: sniffio in /opt/anaconda3/lib/python3.12/site-packages (from openai) (1.3.0)\n",
      "Requirement already satisfied: tqdm>4 in /opt/anaconda3/lib/python3.12/site-packages (from openai) (4.66.4)\n",
      "Requirement already satisfied: typing-extensions<5,>=4.11 in /opt/anaconda3/lib/python3.12/site-packages (from openai) (4.11.0)\n",
      "Requirement already satisfied: idna>=2.8 in /opt/anaconda3/lib/python3.12/site-packages (from anyio<5,>=3.5.0->openai) (3.7)\n",
      "Requirement already satisfied: certifi in /opt/anaconda3/lib/python3.12/site-packages (from httpx<1,>=0.23.0->openai) (2024.8.30)\n",
      "Requirement already satisfied: httpcore==1.* in /opt/anaconda3/lib/python3.12/site-packages (from httpx<1,>=0.23.0->openai) (1.0.2)\n",
      "Requirement already satisfied: h11<0.15,>=0.13 in /opt/anaconda3/lib/python3.12/site-packages (from httpcore==1.*->httpx<1,>=0.23.0->openai) (0.14.0)\n",
      "Requirement already satisfied: annotated-types>=0.4.0 in /opt/anaconda3/lib/python3.12/site-packages (from pydantic<3,>=1.9.0->openai) (0.6.0)\n",
      "Requirement already satisfied: pydantic-core==2.14.6 in /opt/anaconda3/lib/python3.12/site-packages (from pydantic<3,>=1.9.0->openai) (2.14.6)\n"
     ]
    }
   ],
   "source": [
    "# install from PyPI\n",
    "!pip install openai\n",
    "!pip install --upgrade openai"
   ]
  },
  {
   "cell_type": "code",
   "execution_count": 65,
   "id": "85a78675-aee9-4f00-aaed-3e706892d4ce",
   "metadata": {},
   "outputs": [],
   "source": [
    "import openai\n",
    "from openai import OpenAI\n",
    "from sk import my_sk # created a seperate .py file for my API secret key "
   ]
  },
  {
   "cell_type": "code",
   "execution_count": 5,
   "id": "89d64c7a-d7c5-452b-9a12-d03bb165903d",
   "metadata": {},
   "outputs": [],
   "source": [
    "OpenAI.api_key = my_sk # Add my API key \n",
    "client = OpenAI(api_key= my_sk)"
   ]
  },
  {
   "cell_type": "code",
   "execution_count": 67,
   "id": "caf15cf6-a663-46a9-879c-dc1b81dc5eea",
   "metadata": {
    "scrolled": true
   },
   "outputs": [
    {
     "name": "stdout",
     "output_type": "stream",
     "text": [
      "This is a test.\n",
      "ChatCompletion(id='chatcmpl-AV7NmruyRx0hNIhZ51x6MZmfHrMqD', choices=[Choice(finish_reason='stop', index=0, logprobs=None, message=ChatCompletionMessage(content='This is a test.', refusal=None, role='assistant', audio=None, function_call=None, tool_calls=None))], created=1731979910, model='gpt-4o-2024-08-06', object='chat.completion', service_tier=None, system_fingerprint='fp_7e2833e5f9', usage=CompletionUsage(completion_tokens=5, prompt_tokens=12, total_tokens=17, completion_tokens_details=CompletionTokensDetails(accepted_prediction_tokens=0, audio_tokens=0, reasoning_tokens=0, rejected_prediction_tokens=0), prompt_tokens_details=PromptTokensDetails(audio_tokens=0, cached_tokens=0)))\n"
     ]
    },
    {
     "data": {
      "text/plain": [
       "\"\\nChatCompletion(id='chatcmpl-AV5MAbxDRNCmGIGHy4gJkdOZaY8rb', choices=[Choice(finish_reason='stop', index=0, logprobs=None, message=ChatCompletionMessage(content='This is a test.', refusal=None, role='assistant', audio=None, function_call=None, tool_calls=None))], created=1731972122, model='gpt-4o-2024-08-06', object='chat.completion', service_tier=None, system_fingerprint='fp_45cf54deae', usage=CompletionUsage(completion_tokens=5, prompt_tokens=12, total_tokens=17, completion_tokens_details=CompletionTokensDetails(accepted_prediction_tokens=0, audio_tokens=0, reasoning_tokens=0, rejected_prediction_tokens=0), prompt_tokens_details=PromptTokensDetails(audio_tokens=0, cached_tokens=0)))\\n\""
      ]
     },
     "execution_count": 67,
     "metadata": {},
     "output_type": "execute_result"
    }
   ],
   "source": [
    "#Example prompt\n",
    "chat_completion = client.chat.completions.create(\n",
    "    messages=[\n",
    "        {\n",
    "            \"role\": \"user\",\n",
    "            \"content\": \"Say this is a test\",\n",
    "        }\n",
    "    ],\n",
    "    model=\"gpt-4o\",   \n",
    ")\n",
    "\n",
    "#Print the AI's response\n",
    "print(chat_completion.choices[0].message.content)\n",
    "print(chat_completion)\n",
    "\n",
    "#AI's response\n",
    "\"\"\"\n",
    "This is a test.\n",
    "ChatCompletion(id='chatcmpl-AV5MAbxDRNCmGIGHy4gJkdOZaY8rb', choices=[Choice(finish_reason='stop', index=0, logprobs=None, message=ChatCompletionMessage(content='This is a test.', refusal=None, role='assistant', audio=None, function_call=None, tool_calls=None))], created=1731972122, model='gpt-4o-2024-08-06', object='chat.completion', service_tier=None, system_fingerprint='fp_45cf54deae', usage=CompletionUsage(completion_tokens=5, prompt_tokens=12, total_tokens=17, completion_tokens_details=CompletionTokensDetails(accepted_prediction_tokens=0, audio_tokens=0, reasoning_tokens=0, rejected_prediction_tokens=0), prompt_tokens_details=PromptTokensDetails(audio_tokens=0, cached_tokens=0)))\n",
    "\"\"\""
   ]
  },
  {
   "cell_type": "code",
   "execution_count": 49,
   "id": "7a9ff224-8d27-44a7-90b8-728ad3244aac",
   "metadata": {},
   "outputs": [],
   "source": [
    "# Load the dataset\n",
    "import pandas as pd \n",
    "Diabetes = pd.read_csv(\"/Users/sunho/diabetes+130-us+hospitals+for+years+1999-2008/diabetic_data.csv\")\n",
    "Diabetes_5 = Diabetes.iloc[:5]\n",
    "Diabetes_string = Diabetes_5.to_string(index=False)\n",
    "# Diabetes.head()\n",
    "# Diabetes.column"
   ]
  },
  {
   "cell_type": "code",
   "execution_count": 61,
   "id": "90a0fa3c-53b3-4d81-bd4d-ab71b60da6c1",
   "metadata": {},
   "outputs": [
    {
     "data": {
      "text/plain": [
       "'\\nTo obtain a groupby count of the `diag_1`, `diag_2`, and `diag_3` columns based on `gender` and `race`, you can use the Pandas library in Python. You would group by the specified columns and aggregate the count of diagnoses. Here\\'s how you can do it:\\n\\nAssuming you have your data loaded into a Pandas DataFrame named `df`, you can use the following code:\\n\\n```python\\nimport pandas as pd\\n\\n# Assuming df is your DataFrame\\n# Replace \\'your_data.csv\\' with the path to your dataset file if necessary\\n# df = pd.read_csv(\\'your_data.csv\\')\\n\\n# Group by \\'gender\\' and \\'race\\' and count the occurrences of \\'diag_1\\', \\'diag_2\\', and \\'diag_3\\'\\ngrouped = df.groupby([\\'gender\\', \\'race\\'])[[\\'diag_1\\', \\'diag_2\\', \\'diag_3\\']].count()\\n\\n# Display the resulting grouped DataFrame\\nprint(grouped)\\n```\\n\\nThis code will produce a DataFrame where each combination of `gender` and `race` will display the count of non-null entries for `diag_1`, `diag_2`, and `diag_3`. \\n\\nThe `count()` function automatically excludes `NaN` values, meaning it will count only the entries that contain actual diagnostic codes. The result will list different genders and races along with counts of each diagnosis column.\\nChatCompletion(id=\\'chatcmpl-AV78fkzJBITeyFqjvCbU1GGGN4Ewv\\', choices=[Choice(finish_reason=\\'stop\\', index=0, logprobs=None, message=ChatCompletionMessage(content=\"To obtain a groupby count of the `diag_1`, `diag_2`, and `diag_3` columns based on `gender` and `race`, you can use the Pandas library in Python. You would group by the specified columns and aggregate the count of diagnoses. Here\\'s how you can do it:\\n\\nAssuming you have your data loaded into a Pandas DataFrame named `df`, you can use the following code:\\n\\n```python\\nimport pandas as pd\\n\\n# Assuming df is your DataFrame\\n# Replace \\'your_data.csv\\' with the path to your dataset file if necessary\\n# df = pd.read_csv(\\'your_data.csv\\')\\n\\n# Group by \\'gender\\' and \\'race\\' and count the occurrences of \\'diag_1\\', \\'diag_2\\', and \\'diag_3\\'\\ngrouped = df.groupby([\\'gender\\', \\'race\\'])[[\\'diag_1\\', \\'diag_2\\', \\'diag_3\\']].count()\\n\\n# Display the resulting grouped DataFrame\\nprint(grouped)\\n```\\n\\nThis code will produce a DataFrame where each combination of `gender` and `race` will display the count of non-null entries for `diag_1`, `diag_2`, and `diag_3`. \\n\\nThe `count()` function automatically excludes `NaN` values, meaning it will count only the entries that contain actual diagnostic codes. The result will list different genders and races along with counts of each diagnosis column.\", refusal=None, role=\\'assistant\\', audio=None, function_call=None, tool_calls=None))], created=1731978973, model=\\'gpt-4o-2024-08-06\\', object=\\'chat.completion\\', service_tier=None, system_fingerprint=\\'fp_45cf54deae\\', usage=CompletionUsage(completion_tokens=293, prompt_tokens=877, total_tokens=1170, completion_tokens_details=CompletionTokensDetails(accepted_prediction_tokens=0, audio_tokens=0, reasoning_tokens=0, rejected_prediction_tokens=0), prompt_tokens_details=PromptTokensDetails(audio_tokens=0, cached_tokens=0)))\\n\\'\\nTo perform a `groupby` operation on the data with `gender` and `race` and get the count of occurrences for the columns `diag_1`, `diag_2`, and `diag_3`, you can use the `pandas` library in Python. Here is how you can achieve this:\\n\\n```python\\nimport pandas as pd\\n\\n# Assuming \\'data\\' is your DataFrame\\n\\n# Group by \\'gender\\' and \\'race\\', then count occurrences in \\'diag_1\\nChatCompletion(id=\\'chatcmpl-AV75xHiavglfPAawJW2aO1R7D49Tu\\', choices=[Choice(finish_reason=\\'length\\', index=0, logprobs=None, message=ChatCompletionMessage(content=\"To perform a `groupby` operation on the data with `gender` and `race` and get the count of occurrences for the columns `diag_1`, `diag_2`, and `diag_3`, you can use the `pandas` library in Python. Here is how you can achieve this:\\n\\n```python\\nimport pandas as pd\\n\\n# Assuming \\'data\\' is your DataFrame\\n\\n# Group by \\'gender\\' and \\'race\\', then count occurrences in \\'diag_1\", refusal=None, role=\\'assistant\\', audio=None, function_call=None, tool_calls=None))], created=1731978805, model=\\'gpt-4o-2024-08-06\\', object=\\'chat.completion\\', service_tier=None, system_fingerprint=\\'fp_45cf54deae\\', usage=CompletionUsage(completion_tokens=100, prompt_tokens=877, total_tokens=977, completion_tokens_details=CompletionTokensDetails(accepted_prediction_tokens=0, audio_tokens=0, reasoning_tokens=0, rejected_prediction_tokens=0), prompt_tokens_details=PromptTokensDetails(audio_tokens=0, cached_tokens=0)))\\n\\'\"\\nTo perform a group by count of the columns \\'\\nChatCompletion(id=\\'chatcmpl-AV74CDiDTHu55Yyc2eu5PJrAVDXnP\\', choices=[Choice(finish_reason=\\'length\\', index=0, logprobs=None, message=ChatCompletionMessage(content=\"To perform a group by count of the columns \\'\", refusal=None, role=\\'assistant\\', audio=None, function_call=None, tool_calls=None))], created=1731978696, model=\\'gpt-4o-2024-08-06\\', object=\\'chat.completion\\', service_tier=None, system_fingerprint=\\'fp_45cf54deae\\', usage=CompletionUsage(completion_tokens=10, prompt_tokens=877, total_tokens=887, completion_tokens_details=CompletionTokensDetails(accepted_prediction_tokens=0, audio_tokens=0, reasoning_tokens=0, rejected_prediction_tokens=0), prompt_tokens_details=PromptTokensDetails(audio_tokens=0, cached_tokens=0)))\\n\\'\\n\\'\\n'"
      ]
     },
     "execution_count": 61,
     "metadata": {},
     "output_type": "execute_result"
    }
   ],
   "source": [
    "# Data analysis prompt\n",
    "prompt = f\"\"\"\n",
    "            I have a dataset with diabetes: {Diabetes_string} In the columns it has  'diag_1','diag_2', 'diag_3'. \n",
    "            Do a groupby count with 'gender' and 'race'.\n",
    "         \"\"\"\n",
    "chat_completion = client.chat.completions.create(\n",
    "    messages=[\n",
    "        {\n",
    "            \"role\": \"user\",\n",
    "            \"content\": prompt \n",
    "        }\n",
    "    ],\n",
    "    model=\"gpt-4o\", \n",
    "    max_tokens=2000\n",
    ")\n",
    "\n",
    "#Print the AI's response\n",
    "print(chat_completion.choices[0].message.content)\n",
    "print(chat_completion)\n",
    "\n",
    "# AI's response\n",
    "\"\"\"\n",
    "To obtain a groupby count of the `diag_1`, `diag_2`, and `diag_3` columns based on `gender` and `race`, you can use the Pandas library in Python. You would group by the specified columns and aggregate the count of diagnoses. Here's how you can do it:\n",
    "\n",
    "Assuming you have your data loaded into a Pandas DataFrame named `df`, you can use the following code:\n",
    "\n",
    "```python\n",
    "import pandas as pd\n",
    "\n",
    "# Assuming df is your DataFrame\n",
    "# Replace 'your_data.csv' with the path to your dataset file if necessary\n",
    "# df = pd.read_csv('your_data.csv')\n",
    "\n",
    "# Group by 'gender' and 'race' and count the occurrences of 'diag_1', 'diag_2', and 'diag_3'\n",
    "grouped = df.groupby(['gender', 'race'])[['diag_1', 'diag_2', 'diag_3']].count()\n",
    "\n",
    "# Display the resulting grouped DataFrame\n",
    "print(grouped)\n",
    "```\n",
    "\n",
    "This code will produce a DataFrame where each combination of `gender` and `race` will display the count of non-null entries for `diag_1`, `diag_2`, and `diag_3`. \n",
    "\n",
    "The `count()` function automatically excludes `NaN` values, meaning it will count only the entries that contain actual diagnostic codes. The result will list different genders and races along with counts of each diagnosis column.\n",
    "ChatCompletion(id='chatcmpl-AV78fkzJBITeyFqjvCbU1GGGN4Ewv', choices=[Choice(finish_reason='stop', index=0, logprobs=None, message=ChatCompletionMessage(content=\"To obtain a groupby count of the `diag_1`, `diag_2`, and `diag_3` columns based on `gender` and `race`, you can use the Pandas library in Python. You would group by the specified columns and aggregate the count of diagnoses. Here's how you can do it:\\n\\nAssuming you have your data loaded into a Pandas DataFrame named `df`, you can use the following code:\\n\\n```python\\nimport pandas as pd\\n\\n# Assuming df is your DataFrame\\n# Replace 'your_data.csv' with the path to your dataset file if necessary\\n# df = pd.read_csv('your_data.csv')\\n\\n# Group by 'gender' and 'race' and count the occurrences of 'diag_1', 'diag_2', and 'diag_3'\\ngrouped = df.groupby(['gender', 'race'])[['diag_1', 'diag_2', 'diag_3']].count()\\n\\n# Display the resulting grouped DataFrame\\nprint(grouped)\\n```\\n\\nThis code will produce a DataFrame where each combination of `gender` and `race` will display the count of non-null entries for `diag_1`, `diag_2`, and `diag_3`. \\n\\nThe `count()` function automatically excludes `NaN` values, meaning it will count only the entries that contain actual diagnostic codes. The result will list different genders and races along with counts of each diagnosis column.\", refusal=None, role='assistant', audio=None, function_call=None, tool_calls=None))], created=1731978973, model='gpt-4o-2024-08-06', object='chat.completion', service_tier=None, system_fingerprint='fp_45cf54deae', usage=CompletionUsage(completion_tokens=293, prompt_tokens=877, total_tokens=1170, completion_tokens_details=CompletionTokensDetails(accepted_prediction_tokens=0, audio_tokens=0, reasoning_tokens=0, rejected_prediction_tokens=0), prompt_tokens_details=PromptTokensDetails(audio_tokens=0, cached_tokens=0)))\n",
    "'\\nTo perform a `groupby` operation on the data with `gender` and `race` and get the count of occurrences for the columns `diag_1`, `diag_2`, and `diag_3`, you can use the `pandas` library in Python. Here is how you can achieve this:\\n\\n```python\\nimport pandas as pd\\n\\n# Assuming \\'data\\' is your DataFrame\\n\\n# Group by \\'gender\\' and \\'race\\', then count occurrences in \\'diag_1\\nChatCompletion(id=\\'chatcmpl-AV75xHiavglfPAawJW2aO1R7D49Tu\\', choices=[Choice(finish_reason=\\'length\\', index=0, logprobs=None, message=ChatCompletionMessage(content=\"To perform a `groupby` operation on the data with `gender` and `race` and get the count of occurrences for the columns `diag_1`, `diag_2`, and `diag_3`, you can use the `pandas` library in Python. Here is how you can achieve this:\\n\\n```python\\nimport pandas as pd\\n\\n# Assuming \\'data\\' is your DataFrame\\n\\n# Group by \\'gender\\' and \\'race\\', then count occurrences in \\'diag_1\", refusal=None, role=\\'assistant\\', audio=None, function_call=None, tool_calls=None))], created=1731978805, model=\\'gpt-4o-2024-08-06\\', object=\\'chat.completion\\', service_tier=None, system_fingerprint=\\'fp_45cf54deae\\', usage=CompletionUsage(completion_tokens=100, prompt_tokens=877, total_tokens=977, completion_tokens_details=CompletionTokensDetails(accepted_prediction_tokens=0, audio_tokens=0, reasoning_tokens=0, rejected_prediction_tokens=0), prompt_tokens_details=PromptTokensDetails(audio_tokens=0, cached_tokens=0)))\\n\\'\"\\nTo perform a group by count of the columns \\'\\nChatCompletion(id=\\'chatcmpl-AV74CDiDTHu55Yyc2eu5PJrAVDXnP\\', choices=[Choice(finish_reason=\\'length\\', index=0, logprobs=None, message=ChatCompletionMessage(content=\"To perform a group by count of the columns \\'\", refusal=None, role=\\'assistant\\', audio=None, function_call=None, tool_calls=None))], created=1731978696, model=\\'gpt-4o-2024-08-06\\', object=\\'chat.completion\\', service_tier=None, system_fingerprint=\\'fp_45cf54deae\\', usage=CompletionUsage(completion_tokens=10, prompt_tokens=877, total_tokens=887, completion_tokens_details=CompletionTokensDetails(accepted_prediction_tokens=0, audio_tokens=0, reasoning_tokens=0, rejected_prediction_tokens=0), prompt_tokens_details=PromptTokensDetails(audio_tokens=0, cached_tokens=0)))\\n\\'\\n'\n",
    "\"\"\""
   ]
  },
  {
   "cell_type": "code",
   "execution_count": 63,
   "id": "9b515005-a088-4de0-bbf3-26e316ed0306",
   "metadata": {},
   "outputs": [
    {
     "name": "stdout",
     "output_type": "stream",
     "text": [
      "I currently cannot execute real-time code, but I can certainly guide you on how to perform a groupby count in Python using the Pandas library.\n",
      "\n",
      "Here's how you can perform the groupby operation and get the count based on 'gender' and 'race':\n",
      "\n",
      "```python\n",
      "import pandas as pd\n",
      "\n",
      "# Assuming `df` is your DataFrame\n",
      "grouped = df.groupby(['gender', 'race']).size().reset_index(name='count')\n",
      "print(grouped)\n",
      "```\n",
      "\n",
      "This code snippet will group your DataFrame by 'gender' and 'race' and then calculate the count of occurrences for each combination of 'gender' and 'race', displaying the result.\n",
      "\n",
      "As I cannot run this code, when you execute it on your own machine, you should see an output with the count of records for each unique combination of 'gender' and 'race' in your dataset.\n",
      "ChatCompletion(id='chatcmpl-AV7GZE3uIBp9QVlYadyIB07urrVJn', choices=[Choice(finish_reason='stop', index=0, logprobs=None, message=ChatCompletionMessage(content=\"I currently cannot execute real-time code, but I can certainly guide you on how to perform a groupby count in Python using the Pandas library.\\n\\nHere's how you can perform the groupby operation and get the count based on 'gender' and 'race':\\n\\n```python\\nimport pandas as pd\\n\\n# Assuming `df` is your DataFrame\\ngrouped = df.groupby(['gender', 'race']).size().reset_index(name='count')\\nprint(grouped)\\n```\\n\\nThis code snippet will group your DataFrame by 'gender' and 'race' and then calculate the count of occurrences for each combination of 'gender' and 'race', displaying the result.\\n\\nAs I cannot run this code, when you execute it on your own machine, you should see an output with the count of records for each unique combination of 'gender' and 'race' in your dataset.\", refusal=None, role='assistant', audio=None, function_call=None, tool_calls=None))], created=1731979463, model='gpt-4o-2024-08-06', object='chat.completion', service_tier=None, system_fingerprint='fp_45cf54deae', usage=CompletionUsage(completion_tokens=175, prompt_tokens=888, total_tokens=1063, completion_tokens_details=CompletionTokensDetails(accepted_prediction_tokens=0, audio_tokens=0, reasoning_tokens=0, rejected_prediction_tokens=0), prompt_tokens_details=PromptTokensDetails(audio_tokens=0, cached_tokens=0)))\n"
     ]
    }
   ],
   "source": [
    "# Tried to make the AI do the groupby itself but somehow it won't do it\n",
    "prompt = f\"\"\"\n",
    "            I have a dataset with diabetes: {Diabetes_string} In the columns it has  'diag_1','diag_2', 'diag_3'. \n",
    "            Do a groupby count with 'gender' and 'race'. Run the code yourslef and show me the result.\n",
    "         \"\"\"\n",
    "chat_completion = client.chat.completions.create(\n",
    "    messages=[\n",
    "        {\n",
    "            \"role\": \"user\",\n",
    "            \"content\": prompt \n",
    "        }\n",
    "    ],\n",
    "    model=\"gpt-4o\", \n",
    "    max_tokens=2000\n",
    ")\n",
    "\n",
    "#Print the AI's response\n",
    "print(chat_completion.choices[0].message.content)\n",
    "print(chat_completion)\n",
    "\n",
    "\n",
    "#AI's response\n",
    "\"\"\"\n",
    "I currently cannot execute real-time code, but I can certainly guide you on how to perform a groupby count in Python using the Pandas library.\n",
    "\n",
    "Here's how you can perform the groupby operation and get the count based on 'gender' and 'race':\n",
    "\n",
    "```python\n",
    "import pandas as pd\n",
    "\n",
    "# Assuming `df` is your DataFrame\n",
    "grouped = df.groupby(['gender', 'race']).size().reset_index(name='count')\n",
    "print(grouped)\n",
    "```\n",
    "\n",
    "This code snippet will group your DataFrame by 'gender' and 'race' and then calculate the count of occurrences for each combination of 'gender' and 'race', displaying the result.\n",
    "\n",
    "As I cannot run this code, when you execute it on your own machine, you should see an output with the count of records for each unique combination of 'gender' and 'race' in your dataset.\n",
    "ChatCompletion(id='chatcmpl-AV7GZE3uIBp9QVlYadyIB07urrVJn', choices=[Choice(finish_reason='stop', index=0, logprobs=None, message=ChatCompletionMessage(content=\"I currently cannot execute real-time code, but I can certainly guide you on how to perform a groupby count in Python using the Pandas library.\\n\\nHere's how you can perform the groupby operation and get the count based on 'gender' and 'race':\\n\\n```python\\nimport pandas as pd\\n\\n# Assuming `df` is your DataFrame\\ngrouped = df.groupby(['gender', 'race']).size().reset_index(name='count')\\nprint(grouped)\\n```\\n\\nThis code snippet will group your DataFrame by 'gender' and 'race' and then calculate the count of occurrences for each combination of 'gender' and 'race', displaying the result.\\n\\nAs I cannot run this code, when you execute it on your own machine, you should see an output with the count of records for each unique combination of 'gender' and 'race' in your dataset.\", refusal=None, role='assistant', audio=None, function_call=None, tool_calls=None))], created=1731979463, model='gpt-4o-2024-08-06', object='chat.completion', service_tier=None, system_fingerprint='fp_45cf54deae', usage=CompletionUsage(completion_tokens=175, prompt_tokens=888, total_tokens=1063, completion_tokens_details=CompletionTokensDetails(accepted_prediction_tokens=0, audio_tokens=0, reasoning_tokens=0, rejected_prediction_tokens=0), prompt_tokens_details=PromptTokensDetails(audio_tokens=0, cached_tokens=0)))\n",
    "\"\"\""
   ]
  }
 ],
 "metadata": {
  "kernelspec": {
   "display_name": "Python 3 (ipykernel)",
   "language": "python",
   "name": "python3"
  },
  "language_info": {
   "codemirror_mode": {
    "name": "ipython",
    "version": 3
   },
   "file_extension": ".py",
   "mimetype": "text/x-python",
   "name": "python",
   "nbconvert_exporter": "python",
   "pygments_lexer": "ipython3",
   "version": "3.12.4"
  }
 },
 "nbformat": 4,
 "nbformat_minor": 5
}
